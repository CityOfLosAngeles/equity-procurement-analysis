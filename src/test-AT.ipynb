{
 "cells": [
  {
   "cell_type": "code",
   "execution_count": 19,
   "id": "8af0defa",
   "metadata": {},
   "outputs": [],
   "source": [
    "import pandas as pd\n",
    "import pygsheets\n",
    "import json"
   ]
  },
  {
   "cell_type": "code",
   "execution_count": 20,
   "id": "3b4afbf6",
   "metadata": {},
   "outputs": [
    {
     "name": "stdout",
     "output_type": "stream",
     "text": [
      "Requirement already satisfied: pygsheets in /opt/conda/lib/python3.7/site-packages (2.0.5)\n",
      "Requirement already satisfied: google-api-python-client>=1.5.5 in /opt/conda/lib/python3.7/site-packages (from pygsheets) (2.24.0)\n",
      "Requirement already satisfied: google-auth-oauthlib in /opt/conda/lib/python3.7/site-packages (from pygsheets) (0.4.6)\n",
      "Requirement already satisfied: google-auth-httplib2>=0.1.0 in /opt/conda/lib/python3.7/site-packages (from google-api-python-client>=1.5.5->pygsheets) (0.1.0)\n",
      "Requirement already satisfied: uritemplate<4dev,>=3.0.0 in /opt/conda/lib/python3.7/site-packages (from google-api-python-client>=1.5.5->pygsheets) (3.0.1)\n",
      "Requirement already satisfied: httplib2<1dev,>=0.15.0 in /opt/conda/lib/python3.7/site-packages (from google-api-python-client>=1.5.5->pygsheets) (0.19.1)\n",
      "Requirement already satisfied: google-auth<3.0.0dev,>=1.16.0 in /opt/conda/lib/python3.7/site-packages (from google-api-python-client>=1.5.5->pygsheets) (2.2.1)\n",
      "Requirement already satisfied: google-api-core<3.0.0dev,>=1.21.0 in /opt/conda/lib/python3.7/site-packages (from google-api-python-client>=1.5.5->pygsheets) (2.1.0)\n",
      "Requirement already satisfied: requests-oauthlib>=0.7.0 in /opt/conda/lib/python3.7/site-packages (from google-auth-oauthlib->pygsheets) (1.3.0)\n",
      "Requirement already satisfied: six in /opt/conda/lib/python3.7/site-packages (from google-auth-httplib2>=0.1.0->google-api-python-client>=1.5.5->pygsheets) (1.15.0)\n",
      "Requirement already satisfied: pyparsing<3,>=2.4.2 in /opt/conda/lib/python3.7/site-packages (from httplib2<1dev,>=0.15.0->google-api-python-client>=1.5.5->pygsheets) (2.4.7)\n",
      "Requirement already satisfied: cachetools<5.0,>=2.0.0 in /opt/conda/lib/python3.7/site-packages (from google-auth<3.0.0dev,>=1.16.0->google-api-python-client>=1.5.5->pygsheets) (4.2.4)\n",
      "Requirement already satisfied: rsa<5,>=3.1.4 in /opt/conda/lib/python3.7/site-packages (from google-auth<3.0.0dev,>=1.16.0->google-api-python-client>=1.5.5->pygsheets) (4.5)\n",
      "Requirement already satisfied: pyasn1-modules>=0.2.1 in /opt/conda/lib/python3.7/site-packages (from google-auth<3.0.0dev,>=1.16.0->google-api-python-client>=1.5.5->pygsheets) (0.2.8)\n",
      "Requirement already satisfied: setuptools>=40.3.0 in /opt/conda/lib/python3.7/site-packages (from google-auth<3.0.0dev,>=1.16.0->google-api-python-client>=1.5.5->pygsheets) (49.6.0.post20201009)\n",
      "Requirement already satisfied: googleapis-common-protos<2.0dev,>=1.6.0 in /opt/conda/lib/python3.7/site-packages (from google-api-core<3.0.0dev,>=1.21.0->google-api-python-client>=1.5.5->pygsheets) (1.53.0)\n",
      "Requirement already satisfied: protobuf>=3.12.0 in /opt/conda/lib/python3.7/site-packages (from google-api-core<3.0.0dev,>=1.21.0->google-api-python-client>=1.5.5->pygsheets) (3.18.1)\n",
      "Requirement already satisfied: requests<3.0.0dev,>=2.18.0 in /opt/conda/lib/python3.7/site-packages (from google-api-core<3.0.0dev,>=1.21.0->google-api-python-client>=1.5.5->pygsheets) (2.24.0)\n",
      "Requirement already satisfied: oauthlib>=3.0.0 in /opt/conda/lib/python3.7/site-packages (from requests-oauthlib>=0.7.0->google-auth-oauthlib->pygsheets) (3.1.0)\n",
      "Requirement already satisfied: pyasn1>=0.1.3 in /opt/conda/lib/python3.7/site-packages (from rsa<5,>=3.1.4->google-auth<3.0.0dev,>=1.16.0->google-api-python-client>=1.5.5->pygsheets) (0.4.8)\n",
      "Requirement already satisfied: idna<3,>=2.5 in /opt/conda/lib/python3.7/site-packages (from requests<3.0.0dev,>=2.18.0->google-api-core<3.0.0dev,>=1.21.0->google-api-python-client>=1.5.5->pygsheets) (2.10)\n",
      "Requirement already satisfied: chardet<4,>=3.0.2 in /opt/conda/lib/python3.7/site-packages (from requests<3.0.0dev,>=2.18.0->google-api-core<3.0.0dev,>=1.21.0->google-api-python-client>=1.5.5->pygsheets) (3.0.4)\n",
      "Requirement already satisfied: certifi>=2017.4.17 in /opt/conda/lib/python3.7/site-packages (from requests<3.0.0dev,>=2.18.0->google-api-core<3.0.0dev,>=1.21.0->google-api-python-client>=1.5.5->pygsheets) (2021.5.30)\n",
      "Requirement already satisfied: urllib3!=1.25.0,!=1.25.1,<1.26,>=1.21.1 in /opt/conda/lib/python3.7/site-packages (from requests<3.0.0dev,>=2.18.0->google-api-core<3.0.0dev,>=1.21.0->google-api-python-client>=1.5.5->pygsheets) (1.25.10)\n"
     ]
    }
   ],
   "source": [
    "!pip3 install pygsheets"
   ]
  },
  {
   "cell_type": "code",
   "execution_count": 37,
   "id": "a0b08d48",
   "metadata": {},
   "outputs": [],
   "source": [
    "gc = pygsheets.authorize(service_file='sa_credentials.json')"
   ]
  },
  {
   "cell_type": "code",
   "execution_count": 38,
   "id": "0dc43888",
   "metadata": {},
   "outputs": [
    {
     "name": "stdout",
     "output_type": "stream",
     "text": [
      "<Spreadsheet 'Procurement Data New' Sheets:8>\n"
     ]
    }
   ],
   "source": [
    "sheet = gc.open('Procurement Data New')\n",
    "print(sheet)"
   ]
  },
  {
   "cell_type": "code",
   "execution_count": 39,
   "id": "6bd66e82",
   "metadata": {},
   "outputs": [
    {
     "name": "stdout",
     "output_type": "stream",
     "text": [
      "{'id': '1gxk2VMTYow0SKaHNL5_Ivm8Bt_3sDW4QLCvovuz8jPU', 'name': 'Procurement Data New'}\n",
      "<Spreadsheet 'Procurement Data New' Sheets:8>\n"
     ]
    }
   ],
   "source": [
    "title = \"Procurement Data New\"\n",
    "spreadsheet = list(filter(lambda x: x['name'] == title, gc.drive.spreadsheet_metadata()))[0]\n",
    "print(spreadsheet)\n",
    "ssheet = gc.open_by_key(spreadsheet['id'])\n",
    "print(ssheet)"
   ]
  },
  {
   "cell_type": "code",
   "execution_count": 45,
   "id": "12f7b905",
   "metadata": {},
   "outputs": [
    {
     "name": "stdout",
     "output_type": "stream",
     "text": [
      "Finished batch request! Currently on row 4000\n",
      "Finished batch request! Currently on row 6000\n",
      "Finished batch request! Currently on row 8000\n",
      "Finished batch request! Currently on row 10000\n",
      "Finished batch request! Currently on row 12000\n",
      "Finished batch request! Currently on row 14000\n",
      "Finished batch request! Currently on row 16000\n",
      "Finished batch request! Currently on row 18000\n",
      "Finished batch request! Currently on row 20000\n",
      "Finished batch request! Currently on row 22000\n",
      "Finished batch request! Currently on row 24000\n",
      "Finished batch request! Currently on row 26000\n",
      "Finished batch request! Currently on row 4000\n",
      "Finished batch request! Currently on row 6000\n",
      "Finished batch request! Currently on row 8000\n",
      "Finished batch request! Currently on row 10000\n",
      "Finished batch request! Currently on row 12000\n",
      "Finished batch request! Currently on row 14000\n",
      "Finished batch request! Currently on row 16000\n",
      "Finished batch request! Currently on row 18000\n",
      "Finished batch request! Currently on row 20000\n",
      "Finished batch request! Currently on row 22000\n",
      "Finished batch request! Currently on row 24000\n",
      "Finished batch request! Currently on row 26000\n",
      "Finished batch request! Currently on row 28000\n",
      "Finished batch request! Currently on row 30000\n",
      "Finished batch request! Currently on row 32000\n",
      "Finished batch request! Currently on row 34000\n",
      "Finished batch request! Currently on row 36000\n",
      "Finished batch request! Currently on row 38000\n",
      "Finished batch request! Currently on row 40000\n",
      "Finished batch request! Currently on row 42000\n",
      "Finished batch request! Currently on row 44000\n",
      "Finished batch request! Currently on row 46000\n",
      "Finished batch request! Currently on row 48000\n",
      "Finished batch request! Currently on row 50000\n",
      "Finished batch request! Currently on row 52000\n"
     ]
    },
    {
     "name": "stderr",
     "output_type": "stream",
     "text": [
      "naics_code_data_generation.py:259: RuntimeWarning: invalid value encountered in double_scalars\n",
      "  # Getting % of awarded contracts given to DBE, MBE, WBEs (by number of contracts) by group\n"
     ]
    }
   ],
   "source": [
    "%run -i 'naics_code_data_generation.py'"
   ]
  },
  {
   "cell_type": "code",
   "execution_count": null,
   "id": "ad566a82",
   "metadata": {},
   "outputs": [],
   "source": []
  }
 ],
 "metadata": {
  "kernelspec": {
   "display_name": "Python 3",
   "language": "python",
   "name": "python3"
  },
  "language_info": {
   "codemirror_mode": {
    "name": "ipython",
    "version": 3
   },
   "file_extension": ".py",
   "mimetype": "text/x-python",
   "name": "python",
   "nbconvert_exporter": "python",
   "pygments_lexer": "ipython3",
   "version": "3.7.8"
  }
 },
 "nbformat": 4,
 "nbformat_minor": 5
}
